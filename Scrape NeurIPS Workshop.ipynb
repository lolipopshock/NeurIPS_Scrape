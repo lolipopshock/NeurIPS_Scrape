{
 "cells": [
  {
   "cell_type": "markdown",
   "metadata": {},
   "source": [
    "## Scrape NeurIPS Workshop"
   ]
  },
  {
   "cell_type": "code",
   "execution_count": null,
   "metadata": {
    "ExecuteTime": {
     "end_time": "2019-08-18T03:01:29.901137Z",
     "start_time": "2019-08-18T03:01:29.898575Z"
    }
   },
   "outputs": [],
   "source": [
    "from bs4 import BeautifulSoup\n",
    "import requests\n",
    "from tqdm import tqdm\n",
    "import re"
   ]
  },
  {
   "cell_type": "code",
   "execution_count": null,
   "metadata": {
    "ExecuteTime": {
     "end_time": "2019-08-18T03:01:11.347175Z",
     "start_time": "2019-08-18T03:01:11.344790Z"
    }
   },
   "outputs": [],
   "source": [
    "neurIPS_base = 'https://nips.cc/Conferences/2019/Schedule'\n",
    "workshop_base = 'https://nips.cc/Conferences/2019/Schedule?showEvent='\n",
    "speaker_base = 'https://nips.cc/Conferences/2019/Schedule?showSpeaker='"
   ]
  },
  {
   "cell_type": "code",
   "execution_count": null,
   "metadata": {
    "ExecuteTime": {
     "end_time": "2019-08-18T03:01:20.925560Z",
     "start_time": "2019-08-18T03:01:20.298873Z"
    }
   },
   "outputs": [],
   "source": [
    "schedule_page = requests.get(f'{neurIPS_base}')    \n",
    "schedule_page = BeautifulSoup(schedule_page.content, \"lxml\")\n",
    "workshops = schedule_page.find('main').find_all(class_='maincard narrower Workshop')"
   ]
  },
  {
   "cell_type": "code",
   "execution_count": null,
   "metadata": {
    "ExecuteTime": {
     "end_time": "2019-08-18T03:12:41.829881Z",
     "start_time": "2019-08-18T03:09:32.275692Z"
    }
   },
   "outputs": [],
   "source": [
    "workshop_infos = []\n",
    "\n",
    "for workshop in tqdm(workshops):\n",
    "    \n",
    "    # Obtain the ID for each workshop\n",
    "    script_parent = workshop.find_parent()['onclick']\n",
    "    workshop_id = re.findall('(\\d+)', script_parent)[0]\n",
    "    workshop_name = workshop.find(class_=\"maincardBody\").text\n",
    "    \n",
    "    # Pull workshop Detailed information in their homepages\n",
    "    workshop_page = requests.get(f'{workshop_base}{workshop_id}')\n",
    "    workshop_page = BeautifulSoup(workshop_page.content, \"lxml\")\n",
    "    \n",
    "    # Workshop Link and Speakers information appears in buttons\n",
    "    buttons = workshop_page.find(id='main').find_all(class_='btn btn-default')\n",
    "    \n",
    "    # Obtain the workshop link\n",
    "    # Sometimes there could be no link for some workshops, so we should take care\n",
    "    possible_link_buttons = list(filter(lambda x: not x.has_attr('onclick'), buttons))\n",
    "    workshop_link = possible_link_buttons[0]['href'] if possible_link_buttons else ''\n",
    "    \n",
    "    # Obtain the workshop abstract\n",
    "    workshop_abstract = workshop_page.find(id='main').find(class_='abstractContainer').get_text(\"\\n\")\n",
    "    \n",
    "    # Obtain the workshop speakers \n",
    "    possible_speaker_buttons = list(filter(lambda x: x.has_attr('onclick'), buttons))\n",
    "    if possible_speaker_buttons:\n",
    "        speaker_ids = [re.findall(\"\\('(.+)'\\)\",speaker_button['onclick'])[0] for speaker_button in possible_speaker_buttons]\n",
    "        speaker_infos = [None] * len(speaker_ids)\n",
    "    \n",
    "        for i, speaker_id in enumerate(speaker_ids):\n",
    "            speaker_page = requests.get(f'{speaker_base}{speaker_id}')\n",
    "            speaker_page = BeautifulSoup(speaker_page.content, \"lxml\")\n",
    "            speaker_name = speaker_page.find('h3').text\n",
    "            speaker_affliation = speaker_page.find('h4').text\n",
    "            speaker_infos[i] = {'name': speaker_name, 'affilation': speaker_affliation}\n",
    "    else:\n",
    "        speaker_infos = []\n",
    "        \n",
    "    workshop_info = {\n",
    "        'workshop_id': workshop_id,\n",
    "        'workshop_name': workshop_name,\n",
    "        'workshop_link': workshop_link,\n",
    "        'workshop_abstract': workshop_abstract,\n",
    "        'speaker_info': speaker_infos\n",
    "    }\n",
    "    \n",
    "    workshop_infos.append(workshop_info)"
   ]
  },
  {
   "cell_type": "code",
   "execution_count": null,
   "metadata": {
    "ExecuteTime": {
     "end_time": "2019-08-18T03:12:47.954565Z",
     "start_time": "2019-08-18T03:12:47.947770Z"
    }
   },
   "outputs": [],
   "source": [
    "import json\n",
    "with open('workshop_info.json', 'w') as fp:\n",
    "    \n",
    "    json.dump(workshop_infos, fp)"
   ]
  },
  {
   "cell_type": "markdown",
   "metadata": {},
   "source": [
    "---"
   ]
  },
  {
   "cell_type": "markdown",
   "metadata": {},
   "source": [
    "## (Optional) Organize the Data in Notion\n",
    "\n",
    "With the help of [Notion-Py](https://github.com/jamalex/notion-py) lib, we can easily get access to our Notion pages and organize the information we just scraped. "
   ]
  },
  {
   "cell_type": "code",
   "execution_count": null,
   "metadata": {
    "ExecuteTime": {
     "end_time": "2019-08-18T03:12:58.268359Z",
     "start_time": "2019-08-18T03:12:58.265838Z"
    }
   },
   "outputs": [],
   "source": [
    "token = '<Your Token>'\n",
    "page_link = 'Your Page'"
   ]
  },
  {
   "cell_type": "code",
   "execution_count": null,
   "metadata": {
    "ExecuteTime": {
     "end_time": "2019-08-18T03:12:58.829577Z",
     "start_time": "2019-08-18T03:12:58.491783Z"
    }
   },
   "outputs": [],
   "source": [
    "from notion.client import NotionClient\n",
    "from notion.block import *"
   ]
  },
  {
   "cell_type": "code",
   "execution_count": null,
   "metadata": {
    "ExecuteTime": {
     "end_time": "2019-08-18T03:12:59.903352Z",
     "start_time": "2019-08-18T03:12:58.979022Z"
    }
   },
   "outputs": [],
   "source": [
    "# Obtain the `token_v2` value by inspecting your browser cookies on a logged-in session on Notion.so\n",
    "client = NotionClient(token_v2=token)\n",
    "\n",
    "# Replace this URL with the URL of the page you want to edit\n",
    "page = client.get_block(page_link)"
   ]
  },
  {
   "cell_type": "code",
   "execution_count": null,
   "metadata": {
    "ExecuteTime": {
     "end_time": "2019-08-18T03:27:07.204429Z",
     "start_time": "2019-08-18T03:24:57.268396Z"
    }
   },
   "outputs": [],
   "source": [
    "for item in tqdm(workshop_infos[34:]):\n",
    "    if item['workshop_link']:\n",
    "        title = f\"[{item['workshop_name']}]({item['workshop_link']})\" \n",
    "    else:\n",
    "        title = f\"{item['workshop_name']}\" \n",
    "    block = page.children.add_new(ToggleBlock, title=title)\n",
    "    block.children.add_new(TextBlock, title=f\"Link: {item['workshop_link']}\", color='gray')\n",
    "    speaker_block = block.children.add_new(ToggleBlock, title='Speakers', color='gray')\n",
    "    for speaker in item['speaker_info']:\n",
    "        title = f\"**{speaker['name']}** - {speaker['affilation']}\"\n",
    "        speaker_block.children.add_new(TextBlock, title=title, color='gray')\n",
    "    block.children.add_new(TextBlock, title=item['workshop_abstract'])"
   ]
  }
 ],
 "metadata": {
  "kernelspec": {
   "display_name": "Python 3",
   "language": "python",
   "name": "python3"
  },
  "language_info": {
   "codemirror_mode": {
    "name": "ipython",
    "version": 3
   },
   "file_extension": ".py",
   "mimetype": "text/x-python",
   "name": "python",
   "nbconvert_exporter": "python",
   "pygments_lexer": "ipython3",
   "version": "3.6.8"
  },
  "varInspector": {
   "cols": {
    "lenName": 16,
    "lenType": 16,
    "lenVar": 40
   },
   "kernels_config": {
    "python": {
     "delete_cmd_postfix": "",
     "delete_cmd_prefix": "del ",
     "library": "var_list.py",
     "varRefreshCmd": "print(var_dic_list())"
    },
    "r": {
     "delete_cmd_postfix": ") ",
     "delete_cmd_prefix": "rm(",
     "library": "var_list.r",
     "varRefreshCmd": "cat(var_dic_list()) "
    }
   },
   "types_to_exclude": [
    "module",
    "function",
    "builtin_function_or_method",
    "instance",
    "_Feature"
   ],
   "window_display": false
  }
 },
 "nbformat": 4,
 "nbformat_minor": 2
}
